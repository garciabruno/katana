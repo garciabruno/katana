{
 "cells": [
  {
   "cell_type": "code",
   "execution_count": 1,
   "metadata": {},
   "outputs": [
    {
     "name": "stdout",
     "output_type": "stream",
     "text": [
      "2020-04-09 10:09:58,615 - katana - INFO - Using development settings\n",
      "(0, 10882.250817723247)\n",
      "(32, 10467.762685848775)\n",
      "(64, 10256.313402562355)\n",
      "(96, 10152.818374513901)\n",
      "(130, 9950.804599002937)\n",
      "(161, 9745.668447648792)\n",
      "(193, 9638.954444840487)\n",
      "(225, 9533.876369984948)\n",
      "(257, 9220.26092039934)\n",
      "(289, 9111.367550094712)\n",
      "(321, 9006.985693337496)\n",
      "(482, 8887.402095340693)\n",
      "(515, 8785.892501433154)\n",
      "(547, 8579.299184106996)\n",
      "(578, 8477.878406218124)\n",
      "y = -3.6108932870867276*x + 10449.594025321554\n"
     ]
    }
   ],
   "source": [
    "from api.trip import Trip\n",
    "from db import session_maker\n",
    "session = session_maker()\n",
    "\n",
    "trip_handler = Trip(session, 70, 2644)\n",
    "\n",
    "for data in trip_handler.last_movement_data:\n",
    "    print(\"({}, {})\".format(data[0], data[1].meters))\n",
    "\n",
    "coef, intercept = trip_handler.linear_regression_model\n",
    "\n",
    "print(\"y = {}*x + {}\".format(coef, intercept))"
   ]
  },
  {
   "cell_type": "code",
   "execution_count": 9,
   "metadata": {},
   "outputs": [
    {
     "data": {
      "text/plain": [
       "1592"
      ]
     },
     "execution_count": 9,
     "metadata": {},
     "output_type": "execute_result"
    }
   ],
   "source": [
    "session = session_maker()\n",
    "trip_handler = Trip(session, 24, 3543)\n",
    "trip_handler.calculate_internal_bus_route()"
   ]
  },
  {
   "cell_type": "code",
   "execution_count": null,
   "metadata": {},
   "outputs": [],
   "source": []
  }
 ],
 "metadata": {
  "kernelspec": {
   "display_name": "Python 3",
   "language": "python",
   "name": "python3"
  },
  "language_info": {
   "codemirror_mode": {
    "name": "ipython",
    "version": 3
   },
   "file_extension": ".py",
   "mimetype": "text/x-python",
   "name": "python",
   "nbconvert_exporter": "python",
   "pygments_lexer": "ipython3",
   "version": "3.6.8"
  }
 },
 "nbformat": 4,
 "nbformat_minor": 4
}
