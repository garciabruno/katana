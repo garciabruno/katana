{
 "cells": [
  {
   "cell_type": "code",
   "execution_count": 3,
   "metadata": {},
   "outputs": [],
   "source": [
    "from api.trip import Trip\n",
    "from db import session_maker\n",
    "\n",
    "session = session_maker()\n",
    "trip_handler = Trip(session, 70, 2644)"
   ]
  },
  {
   "cell_type": "code",
   "execution_count": 4,
   "metadata": {},
   "outputs": [
    {
     "name": "stdout",
     "output_type": "stream",
     "text": [
      "(0, 17351.788256535445)\n",
      "(65, 17376.94459150188)\n",
      "(97, 17399.314612819915)\n",
      "(129, 17419.947880176645)\n",
      "(161, 17362.38307821881)\n",
      "(193, 17123.821986314502)\n",
      "(225, 16925.71190864373)\n",
      "(257, 16829.21241353453)\n",
      "(289, 16682.591417178945)\n",
      "(323, 16418.20999077724)\n",
      "(355, 16383.972926328099)\n",
      "(387, 16301.986978568915)\n",
      "(420, 15911.386278354716)\n",
      "(451, 15725.259959663332)\n",
      "(483, 15575.501888606528)\n",
      "(514, 15423.652077389572)\n",
      "(546, 15720.567682762356)\n",
      "(578, 15948.348854038539)\n",
      "y = -3.8476236356546707*x + 17718.813718852874\n"
     ]
    }
   ],
   "source": [
    "import numpy\n",
    "from sklearn.linear_model import LinearRegression\n",
    "\n",
    "movement_data = trip_handler.last_movement_data\n",
    "\n",
    "x = numpy.array([x[0] for x in movement_data]).reshape((-1, 1))\n",
    "y = numpy.array([x[1].meters for x in movement_data]).reshape((-1, 1))\n",
    "\n",
    "for i in range(len(y)):\n",
    "    print(\"({}, {})\".format(x.item(i), y.item(i)))\n",
    "    \n",
    "model = LinearRegression().fit(x, y)\n",
    "r_sq = model.score(x, y)\n",
    "\n",
    "print(\"y = {}*x + {}\".format(model.coef_.item(0), model.intercept_.item(0)))"
   ]
  },
  {
   "cell_type": "code",
   "execution_count": null,
   "metadata": {},
   "outputs": [],
   "source": []
  },
  {
   "cell_type": "code",
   "execution_count": null,
   "metadata": {},
   "outputs": [],
   "source": []
  }
 ],
 "metadata": {
  "kernelspec": {
   "display_name": "Python 3",
   "language": "python",
   "name": "python3"
  },
  "language_info": {
   "codemirror_mode": {
    "name": "ipython",
    "version": 3
   },
   "file_extension": ".py",
   "mimetype": "text/x-python",
   "name": "python",
   "nbconvert_exporter": "python",
   "pygments_lexer": "ipython3",
   "version": "3.6.8"
  }
 },
 "nbformat": 4,
 "nbformat_minor": 4
}
