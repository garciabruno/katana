{
 "cells": [
  {
   "cell_type": "code",
   "execution_count": 1,
   "metadata": {},
   "outputs": [],
   "source": [
    "import numpy\n",
    "from sklearn.linear_model import LinearRegression\n",
    "from sqlalchemy import between"
   ]
  },
  {
   "cell_type": "code",
   "execution_count": 2,
   "metadata": {},
   "outputs": [
    {
     "name": "stdout",
     "output_type": "stream",
     "text": [
      "2020-04-07 16:06:49,528 - katana - INFO - Using development settings\n"
     ]
    }
   ],
   "source": [
    "from db import session_maker\n",
    "from models import BusPos\n",
    "session = session_maker()"
   ]
  },
  {
   "cell_type": "code",
   "execution_count": 3,
   "metadata": {},
   "outputs": [],
   "source": [
    "lower_bound = 1585387487\n",
    "upper_bound = 1585391087 # 1 hour worth of data\n",
    "\n",
    "bus_positions = session.query(BusPos).filter(\n",
    "    BusPos.bus_internal_id == 3885,\n",
    "    BusPos.bus_line_id == 70,\n",
    "    BusPos.timestamp.between(lower_bound, upper_bound)\n",
    ").all()"
   ]
  },
  {
   "cell_type": "code",
   "execution_count": 4,
   "metadata": {},
   "outputs": [
    {
     "data": {
      "text/plain": [
       "'{\"type\": \"MultiLineString\", \"coordinates\": [[-64.11435, -31.42766], [-64.11435, -31.427655], [-64.114351, -31.427654], [-64.114352, -31.427652], [-64.116029, -31.423578], [-64.128932, -31.424539], [-64.128888, -31.423488], [-64.132169, -31.422468], [-64.13369, -31.422454], [-64.139719, -31.421931], [-64.142921, -31.422673], [-64.143173, -31.423796], [-64.147973, -31.42291], [-64.148804, -31.423275], [-64.150213, -31.423181], [-64.153036, -31.422546], [-64.155121, -31.422716], [-64.156823, -31.422933], [-64.158466, -31.423555], [-64.159977, -31.423388], [-64.163257, -31.423125], [-64.164657, -31.423313], [-64.173011, -31.42409], [-64.174735, -31.422174], [-64.175558, -31.420436], [-64.175874, -31.419702], [-64.178079, -31.419046], [-64.179129, -31.418733], [-64.184358, -31.417081], [-64.187148, -31.41647], [-64.187461, -31.416258], [-64.188391, -31.415977], [-64.197614, -31.4124], [-64.197724, -31.409414], [-64.199285, -31.408925], [-64.202687, -31.407895], [-64.203724, -31.40758], [-64.212483, -31.404874], [-64.227963, -31.399964], [-64.230422, -31.399204], [-64.230592, -31.399145], [-64.234372, -31.397969], [-64.23592, -31.397464], [-64.244654, -31.396086], [-64.269496, -31.392618], [-64.273449, -31.38811], [-64.273628, -31.386363], [-64.269309, -31.386367]]}'"
      ]
     },
     "execution_count": 4,
     "metadata": {},
     "output_type": "execute_result"
    }
   ],
   "source": [
    "import json\n",
    "import geojson\n",
    "\n",
    "coords = [(float(x.lon), float(x.lat)) for x in bus_positions]\n",
    "json.dumps(geojson.MultiLineString(coords))"
   ]
  },
  {
   "cell_type": "code",
   "execution_count": 5,
   "metadata": {},
   "outputs": [
    {
     "name": "stdout",
     "output_type": "stream",
     "text": [
      "Using route id 1691 HACIA B° VALLE ESCONDIDO\n"
     ]
    }
   ],
   "source": [
    "from geopy.distance import geodesic\n",
    "from core.route import Route\n",
    "\n",
    "route_handler = Route(session, 70)\n",
    "first_route_id = route_handler.routes[0]['route_id']\n",
    "first_route_description = route_handler.routes[0]['route_description']\n",
    "print(\"Using route id {} {}\".format(first_route_id, first_route_description))\n",
    "first_route = route_handler.get_route_positions(first_route_id)[0]\n",
    "\n",
    "first_route_pos = (\n",
    "    float(first_route['lat']),\n",
    "    float(first_route['lon'])\n",
    ")\n",
    "\n",
    "distances = []\n",
    "\n",
    "for bus_pos in bus_positions:\n",
    "    last_pos = (\n",
    "        float(bus_pos.lat),\n",
    "        float(bus_pos.lon)\n",
    "    )\n",
    "    \n",
    "    distances.append(\n",
    "        geodesic(first_route_pos, last_pos)\n",
    "    )"
   ]
  },
  {
   "cell_type": "code",
   "execution_count": 5,
   "metadata": {},
   "outputs": [
    {
     "name": "stdout",
     "output_type": "stream",
     "text": [
      "(0, 15478.778287832372)\n",
      "(95, 15513.784656366914)\n",
      "(128, 15717.112591394995)\n",
      "(190, 15900.96928269953)\n",
      "(477, 15991.16640119209)\n",
      "(668, 15966.918794584251)\n",
      "(700, 15872.537279148073)\n",
      "(765, 15574.456379705123)\n",
      "(796, 15376.210000940628)\n"
     ]
    }
   ],
   "source": [
    "x = numpy.array([x.timestamp - bus_positions[0].timestamp for x in bus_positions]).reshape((-1, 1))\n",
    "#y = numpy.array([x.meters for x in distances]).reshape((-1, 1))\n",
    "y = numpy.array([15478.778287832372,\n",
    " 15513.784656366914,\n",
    " 15717.112591394995,\n",
    " 15900.96928269953,\n",
    " 15991.16640119209,\n",
    " 15966.918794584251,\n",
    " 15872.537279148073,\n",
    " 15574.456379705123,\n",
    " 15376.210000940628]).reshape((-1, 1))\n",
    "\n",
    "for i in range(len(y)):\n",
    "    print(\"({}, {})\".format(x.item(i), y.item(i)))"
   ]
  },
  {
   "cell_type": "code",
   "execution_count": 6,
   "metadata": {},
   "outputs": [
    {
     "ename": "ValueError",
     "evalue": "Found input variables with inconsistent numbers of samples: [48, 9]",
     "output_type": "error",
     "traceback": [
      "\u001b[0;31m---------------------------------------------------------------------------\u001b[0m",
      "\u001b[0;31mValueError\u001b[0m                                Traceback (most recent call last)",
      "\u001b[0;32m<ipython-input-6-c1d9e391c8a2>\u001b[0m in \u001b[0;36m<module>\u001b[0;34m\u001b[0m\n\u001b[0;32m----> 1\u001b[0;31m \u001b[0mmodel\u001b[0m \u001b[0;34m=\u001b[0m \u001b[0mLinearRegression\u001b[0m\u001b[0;34m(\u001b[0m\u001b[0;34m)\u001b[0m\u001b[0;34m.\u001b[0m\u001b[0mfit\u001b[0m\u001b[0;34m(\u001b[0m\u001b[0mx\u001b[0m\u001b[0;34m,\u001b[0m \u001b[0my\u001b[0m\u001b[0;34m)\u001b[0m\u001b[0;34m\u001b[0m\u001b[0;34m\u001b[0m\u001b[0m\n\u001b[0m\u001b[1;32m      2\u001b[0m \u001b[0mr_sq\u001b[0m \u001b[0;34m=\u001b[0m \u001b[0mmodel\u001b[0m\u001b[0;34m.\u001b[0m\u001b[0mscore\u001b[0m\u001b[0;34m(\u001b[0m\u001b[0mx\u001b[0m\u001b[0;34m,\u001b[0m \u001b[0my\u001b[0m\u001b[0;34m)\u001b[0m\u001b[0;34m\u001b[0m\u001b[0;34m\u001b[0m\u001b[0m\n",
      "\u001b[0;32m~/.pyenv/versions/kosovo/lib/python3.6/site-packages/sklearn/linear_model/_base.py\u001b[0m in \u001b[0;36mfit\u001b[0;34m(self, X, y, sample_weight)\u001b[0m\n\u001b[1;32m    490\u001b[0m         \u001b[0mn_jobs_\u001b[0m \u001b[0;34m=\u001b[0m \u001b[0mself\u001b[0m\u001b[0;34m.\u001b[0m\u001b[0mn_jobs\u001b[0m\u001b[0;34m\u001b[0m\u001b[0;34m\u001b[0m\u001b[0m\n\u001b[1;32m    491\u001b[0m         X, y = check_X_y(X, y, accept_sparse=['csr', 'csc', 'coo'],\n\u001b[0;32m--> 492\u001b[0;31m                          y_numeric=True, multi_output=True)\n\u001b[0m\u001b[1;32m    493\u001b[0m \u001b[0;34m\u001b[0m\u001b[0m\n\u001b[1;32m    494\u001b[0m         \u001b[0;32mif\u001b[0m \u001b[0msample_weight\u001b[0m \u001b[0;32mis\u001b[0m \u001b[0;32mnot\u001b[0m \u001b[0;32mNone\u001b[0m\u001b[0;34m:\u001b[0m\u001b[0;34m\u001b[0m\u001b[0;34m\u001b[0m\u001b[0m\n",
      "\u001b[0;32m~/.pyenv/versions/kosovo/lib/python3.6/site-packages/sklearn/utils/validation.py\u001b[0m in \u001b[0;36mcheck_X_y\u001b[0;34m(X, y, accept_sparse, accept_large_sparse, dtype, order, copy, force_all_finite, ensure_2d, allow_nd, multi_output, ensure_min_samples, ensure_min_features, y_numeric, warn_on_dtype, estimator)\u001b[0m\n\u001b[1;32m    763\u001b[0m         \u001b[0my\u001b[0m \u001b[0;34m=\u001b[0m \u001b[0my\u001b[0m\u001b[0;34m.\u001b[0m\u001b[0mastype\u001b[0m\u001b[0;34m(\u001b[0m\u001b[0mnp\u001b[0m\u001b[0;34m.\u001b[0m\u001b[0mfloat64\u001b[0m\u001b[0;34m)\u001b[0m\u001b[0;34m\u001b[0m\u001b[0;34m\u001b[0m\u001b[0m\n\u001b[1;32m    764\u001b[0m \u001b[0;34m\u001b[0m\u001b[0m\n\u001b[0;32m--> 765\u001b[0;31m     \u001b[0mcheck_consistent_length\u001b[0m\u001b[0;34m(\u001b[0m\u001b[0mX\u001b[0m\u001b[0;34m,\u001b[0m \u001b[0my\u001b[0m\u001b[0;34m)\u001b[0m\u001b[0;34m\u001b[0m\u001b[0;34m\u001b[0m\u001b[0m\n\u001b[0m\u001b[1;32m    766\u001b[0m \u001b[0;34m\u001b[0m\u001b[0m\n\u001b[1;32m    767\u001b[0m     \u001b[0;32mreturn\u001b[0m \u001b[0mX\u001b[0m\u001b[0;34m,\u001b[0m \u001b[0my\u001b[0m\u001b[0;34m\u001b[0m\u001b[0;34m\u001b[0m\u001b[0m\n",
      "\u001b[0;32m~/.pyenv/versions/kosovo/lib/python3.6/site-packages/sklearn/utils/validation.py\u001b[0m in \u001b[0;36mcheck_consistent_length\u001b[0;34m(*arrays)\u001b[0m\n\u001b[1;32m    210\u001b[0m     \u001b[0;32mif\u001b[0m \u001b[0mlen\u001b[0m\u001b[0;34m(\u001b[0m\u001b[0muniques\u001b[0m\u001b[0;34m)\u001b[0m \u001b[0;34m>\u001b[0m \u001b[0;36m1\u001b[0m\u001b[0;34m:\u001b[0m\u001b[0;34m\u001b[0m\u001b[0;34m\u001b[0m\u001b[0m\n\u001b[1;32m    211\u001b[0m         raise ValueError(\"Found input variables with inconsistent numbers of\"\n\u001b[0;32m--> 212\u001b[0;31m                          \" samples: %r\" % [int(l) for l in lengths])\n\u001b[0m\u001b[1;32m    213\u001b[0m \u001b[0;34m\u001b[0m\u001b[0m\n\u001b[1;32m    214\u001b[0m \u001b[0;34m\u001b[0m\u001b[0m\n",
      "\u001b[0;31mValueError\u001b[0m: Found input variables with inconsistent numbers of samples: [48, 9]"
     ]
    }
   ],
   "source": [
    "model = LinearRegression().fit(x, y)\n",
    "r_sq = model.score(x, y)"
   ]
  },
  {
   "cell_type": "code",
   "execution_count": 8,
   "metadata": {},
   "outputs": [
    {
     "name": "stdout",
     "output_type": "stream",
     "text": [
      "intercept: [-1470.81633966]\n",
      "slope: [[4.69979004]]\n",
      "y = 4.699790037317242*x + -1470.8163396628624\n"
     ]
    }
   ],
   "source": [
    "print('intercept:', model.intercept_)\n",
    "print('slope:', model.coef_)\n",
    "\n",
    "print(\"y = {}*x + {}\".format(model.coef_.item(0), model.intercept_.item(0)))"
   ]
  },
  {
   "cell_type": "code",
   "execution_count": null,
   "metadata": {},
   "outputs": [],
   "source": []
  },
  {
   "cell_type": "code",
   "execution_count": null,
   "metadata": {},
   "outputs": [],
   "source": []
  }
 ],
 "metadata": {
  "kernelspec": {
   "display_name": "Python 3",
   "language": "python",
   "name": "python3"
  },
  "language_info": {
   "codemirror_mode": {
    "name": "ipython",
    "version": 3
   },
   "file_extension": ".py",
   "mimetype": "text/x-python",
   "name": "python",
   "nbconvert_exporter": "python",
   "pygments_lexer": "ipython3",
   "version": "3.6.8"
  }
 },
 "nbformat": 4,
 "nbformat_minor": 4
}
